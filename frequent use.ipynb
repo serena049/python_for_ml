{
 "cells": [
  {
   "cell_type": "markdown",
   "metadata": {},
   "source": [
    "## 1. Pandas "
   ]
  },
  {
   "cell_type": "code",
   "execution_count": null,
   "metadata": {},
   "outputs": [],
   "source": [
    "# check df na \n",
    "df.isna() # boolen df \n",
    "df.isna.any() # boolen index (summary of each column, return True/False for each column)\n",
    "df.isna().sum() # count of missing values for each column (sum all rows)\n",
    "df.columns[df.isna.all()].tolist() # print list of columns with missing values \n",
    "\n",
    "# fill na\n",
    "df.fillna(df.mean())\n",
    "df['col_1'].fillna(df['col2'].mean())"
   ]
  },
  {
   "cell_type": "code",
   "execution_count": null,
   "metadata": {},
   "outputs": [],
   "source": [
    "# df summary\n",
    "df.info()\n",
    "df.describe()"
   ]
  },
  {
   "cell_type": "code",
   "execution_count": null,
   "metadata": {},
   "outputs": [],
   "source": [
    "# apply (row multiple condition application, takes in a single number and returns a single number)\n",
    "def func_any(num):\n",
    "    if num >= 1:\n",
    "        return 'blaa'\n",
    "    elif num <= 0.6:\n",
    "        return 'alll'\n",
    "    else:\n",
    "        return 'whatever'\n",
    "df['new_col'] = df['col_a'].apply(func_any)\n",
    "\n",
    "# multiple columns\n",
    "def func_any(num1, num2):\n",
    "    if num1 > num2:\n",
    "        return 'blass'\n",
    "    elif num1 = num2:\n",
    "        return 'ssss'\n",
    "    else: \n",
    "        return 'whatever'\n",
    "df['new_col'] = df[['col1', 'col2']].apply(lambda df: func_any(df['col1'], df['col2']), axis=1)    "
   ]
  },
  {
   "cell_type": "code",
   "execution_count": null,
   "metadata": {},
   "outputs": [],
   "source": [
    "# count by group\n",
    "df['col_1'].value_counts()"
   ]
  },
  {
   "cell_type": "code",
   "execution_count": null,
   "metadata": {},
   "outputs": [],
   "source": [
    "# find row with max value \n",
    "df['col_1'].idxmax()"
   ]
  },
  {
   "cell_type": "code",
   "execution_count": null,
   "metadata": {},
   "outputs": [],
   "source": [
    "# map to replace values \n",
    "replace_dict = {'a':'b', 'c':'d'}\n",
    "df['col_1'].map(replace_dict)"
   ]
  },
  {
   "cell_type": "code",
   "execution_count": null,
   "metadata": {},
   "outputs": [],
   "source": [
    "# list comprehension\n",
    "fruits = [\"apple\", \"banana\", \"cherry\", \"kiwi\", \"mango\"]\n",
    "newlist = [x for x in fruits if \"a\" in x]\n",
    "[x[0] if \"a\" in x else x for x in fruits]"
   ]
  },
  {
   "cell_type": "code",
   "execution_count": null,
   "metadata": {},
   "outputs": [],
   "source": [
    "# use sql in pandas \n",
    "df.query(\"Col_1 > Col_2 & Col_2 <= Col_3\")"
   ]
  },
  {
   "cell_type": "code",
   "execution_count": null,
   "metadata": {},
   "outputs": [],
   "source": [
    "# create a df from dict\n",
    "pd.DataFrame(dic.items())"
   ]
  },
  {
   "cell_type": "code",
   "execution_count": null,
   "metadata": {},
   "outputs": [],
   "source": [
    "# datetime \n",
    "# pandas custom string formating datetime\n",
    "\"\"\"\n",
    "A full table of codes can be found here:\n",
    "https://docs.python.org/3/library/datetime.html#strftime-and-strptime-format-codes\n",
    "\"\"\"\n",
    "style_date = '12--Dec--2000'\n",
    "pd.to_datetime(style_date, format='%d--%b--%Y')"
   ]
  },
  {
   "cell_type": "code",
   "execution_count": null,
   "metadata": {},
   "outputs": [],
   "source": [
    "# combine year and month \n",
    "df['DATE'] = pd.to_datetime(df[['YEAR', 'MONTH']].assign(DAY=1))"
   ]
  },
  {
   "cell_type": "markdown",
   "metadata": {},
   "source": [
    "## 2. Plot "
   ]
  },
  {
   "cell_type": "code",
   "execution_count": null,
   "metadata": {},
   "outputs": [],
   "source": [
    "sns.regplot(data=df, x='radio', y='sales', x_bins=5)"
   ]
  },
  {
   "cell_type": "code",
   "execution_count": null,
   "metadata": {},
   "outputs": [],
   "source": [
    "sns.barplot(data=df, x=\"island\", y=\"body_mass_g\")"
   ]
  },
  {
   "cell_type": "code",
   "execution_count": null,
   "metadata": {},
   "outputs": [],
   "source": [
    "sns.countplot(data=df, x='test_result')"
   ]
  },
  {
   "cell_type": "code",
   "execution_count": null,
   "metadata": {},
   "outputs": [],
   "source": [
    "sns.boxplot(x='test_result', y='age', data=df)"
   ]
  },
  {
   "cell_type": "code",
   "execution_count": null,
   "metadata": {},
   "outputs": [],
   "source": [
    "sns.scatterplot(x='age', y='physical_score', data=df,hue='test_result', alpha=0.5)"
   ]
  },
  {
   "cell_type": "markdown",
   "metadata": {},
   "source": [
    "## 3. Data Manipulation"
   ]
  },
  {
   "cell_type": "code",
   "execution_count": null,
   "metadata": {},
   "outputs": [],
   "source": [
    "# drop outliers by quartile \n",
    "q75, q25 = np.percentile(df['SalePrice'], [80, 15])\n",
    "iqr = q75 - q25\n",
    "lower_bound = q25 - 1.5*iqr\n",
    "upper_bound = q75 + 1.5*iqr \n",
    "plt.figure(dpi=200, figsize=(4,2))\n",
    "plt.xticks(rotation='vertical')\n",
    "sns.boxplot(x=df['SalePrice']);\n",
    "\n",
    "ind_drop = df[(df['Gr Liv Area']>4000) & (df['SalePrice']<400000)].index\n",
    "df = df.drop(ind_drop,axis=0)"
   ]
  },
  {
   "cell_type": "code",
   "execution_count": null,
   "metadata": {},
   "outputs": [],
   "source": [
    "# check missing by col\n",
    "# check missing value counts by col\n",
    "def percent_missing(df):\n",
    "    percent_nan = 100* df.isnull().sum() / len(df)\n",
    "    percent_nan = percent_nan[percent_nan>0].sort_values(ascending=True)\n",
    "    return percent_nan\n",
    "\n",
    "percent_nan = percent_missing(df)\n",
    "sns.barplot(x=percent_nan.index, y=pct_missing)\n",
    "plt.xticks(rotation=90);\n",
    "\n",
    "# fill na\n",
    "df[\"Mas Vnr Type\"] = df[\"Mas Vnr Type\"].fillna(\"None\")\n",
    "\n",
    "# impute based on other cols using transform (apply avg to missing values)\n",
    "df['Lot Frontage'] = df.groupby('Neighborhood')['Lot Frontage'].transform(lambda val: val.fillna(val.mean()))"
   ]
  },
  {
   "cell_type": "markdown",
   "metadata": {},
   "source": [
    "## 4. Models"
   ]
  },
  {
   "cell_type": "code",
   "execution_count": null,
   "metadata": {},
   "outputs": [],
   "source": [
    "# get dummies \n",
    "df_nums = df.select_dtypes(exclude='object')\n",
    "df_objs = df.select_dtypes(include='object')\n",
    "df_objs = pd.get_dummies(df_objs,drop_first=True)\n",
    "df = pd.concat([df_nums,df_objs],axis=1)"
   ]
  },
  {
   "cell_type": "code",
   "execution_count": null,
   "metadata": {},
   "outputs": [],
   "source": [
    "# train test split\n",
    "X = df.drop('SalePrice',axis=1)\n",
    "y = df['SalePrice']\n",
    "X_train, X_test, y_train, y_test = train_test_split(X, y, test_size=0.10, random_state=101)"
   ]
  },
  {
   "cell_type": "code",
   "execution_count": null,
   "metadata": {},
   "outputs": [],
   "source": [
    "# scaler \n",
    "scaler = StandardScaler()\n",
    "scaled_X_train = scaler.fit_transform(X_train)\n",
    "scaled_X_test = scaler.transform(X_test)"
   ]
  },
  {
   "cell_type": "code",
   "execution_count": null,
   "metadata": {},
   "outputs": [],
   "source": [
    "# fit model\n",
    "base_elastic_model = ElasticNet()\n",
    "param_grid = {'alpha':[0.1,1,5,10,50,100],\n",
    "              'l1_ratio':[.1, .5, .7, .9, .95, .99, 1]}\n",
    "grid_model = GridSearchCV(estimator=base_elastic_model,\n",
    "                          param_grid=param_grid,\n",
    "                          scoring='neg_mean_squared_error',\n",
    "                          cv=5,\n",
    "                          verbose=1)\n",
    "grid_model.fit(scaled_X_train,y_train)\n",
    "grid_model.best_params_"
   ]
  },
  {
   "cell_type": "code",
   "execution_count": null,
   "metadata": {},
   "outputs": [],
   "source": [
    "# evaluation \n",
    "y_pred = grid_model.predict(scaled_X_test)\n",
    "mean_absolute_error(y_test,y_pred)\n",
    "\n",
    "print(classification_report(y_test, y_pred))\n",
    "fig, ax = plt.subplots(figsize=(12,8), dpi=200)\n",
    "plot_roc_curve(log_model, scaler_X_test, y_test, ax=ax);"
   ]
  }
 ],
 "metadata": {
  "kernelspec": {
   "display_name": "Python 3",
   "language": "python",
   "name": "python3"
  },
  "language_info": {
   "codemirror_mode": {
    "name": "ipython",
    "version": 3
   },
   "file_extension": ".py",
   "mimetype": "text/x-python",
   "name": "python",
   "nbconvert_exporter": "python",
   "pygments_lexer": "ipython3",
   "version": "3.8.5"
  }
 },
 "nbformat": 4,
 "nbformat_minor": 4
}
