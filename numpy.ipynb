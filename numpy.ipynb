{
 "cells": [
  {
   "cell_type": "code",
   "execution_count": 1,
   "metadata": {},
   "outputs": [],
   "source": [
    "import numpy as np"
   ]
  },
  {
   "cell_type": "code",
   "execution_count": 2,
   "metadata": {},
   "outputs": [
    {
     "name": "stdout",
     "output_type": "stream",
     "text": [
      "The item is [[ 1  2  3]\n",
      " [ 4  5  6]\n",
      " [ 7  8  9]\n",
      " [10 11 12]], and its type is <class 'numpy.ndarray'>\n"
     ]
    }
   ],
   "source": [
    "# matrix \n",
    "my_matrix = np.array([[1,2,3], [4,5,6], [7,8,9], [10, 11, 12]])\n",
    "print('The item is {matrix}, and its type is {type}'.format(type=type(my_matrix), matrix=my_matrix))"
   ]
  },
  {
   "cell_type": "code",
   "execution_count": 5,
   "metadata": {},
   "outputs": [
    {
     "data": {
      "text/plain": [
       "array([[1., 1., 1., 1., 1.],\n",
       "       [1., 1., 1., 1., 1.]])"
      ]
     },
     "execution_count": 5,
     "metadata": {},
     "output_type": "execute_result"
    }
   ],
   "source": [
    "# zeros/ones\n",
    "np.ones((2, 5))"
   ]
  },
  {
   "cell_type": "code",
   "execution_count": 18,
   "metadata": {},
   "outputs": [
    {
     "name": "stdout",
     "output_type": "stream",
     "text": [
      "linespace takes begin, end(included) and # of evenly space item like [ 0.  1.  2.  3.  4.  5.  6.  7.  8.  9. 10.] while arange takes begin, end(not included) and gap value like [0 1 2 3 4 5 6 7 8 9]\n"
     ]
    }
   ],
   "source": [
    "# linspace vs. arange \n",
    "print('linespace takes begin, end(included) and # of evenly space item like {linspacesample}'.format(linspacesample=np.linspace(0,10,11))\n",
    "      +' while arange takes begin, end(not included) and gap value like {arangesample}'.format(arangesample=np.arange(0, 10, 1)))"
   ]
  },
  {
   "cell_type": "code",
   "execution_count": 19,
   "metadata": {},
   "outputs": [
    {
     "data": {
      "text/plain": [
       "array([[1., 0., 0., 0., 0.],\n",
       "       [0., 1., 0., 0., 0.],\n",
       "       [0., 0., 1., 0., 0.],\n",
       "       [0., 0., 0., 1., 0.],\n",
       "       [0., 0., 0., 0., 1.]])"
      ]
     },
     "execution_count": 19,
     "metadata": {},
     "output_type": "execute_result"
    }
   ],
   "source": [
    "# identify matrix\n",
    "np.eye(5)"
   ]
  },
  {
   "cell_type": "code",
   "execution_count": 24,
   "metadata": {},
   "outputs": [
    {
     "name": "stdout",
     "output_type": "stream",
     "text": [
      "uniform distirbution[[0.37454012 0.95071431]\n",
      " [0.73199394 0.59865848]\n",
      " [0.15601864 0.15599452]\n",
      " [0.05808361 0.86617615]\n",
      " [0.60111501 0.70807258]]\n",
      "normal distirbution[[-0.46947439  0.54256004]\n",
      " [-0.46341769 -0.46572975]\n",
      " [ 0.24196227 -1.91328024]\n",
      " [-1.72491783 -0.56228753]\n",
      " [-1.01283112  0.31424733]]\n",
      "uniform dist integers[[2 6]\n",
      " [3 8]\n",
      " [2 4]\n",
      " [2 6]\n",
      " [4 8]]\n"
     ]
    }
   ],
   "source": [
    "# random numbers [0,1) \n",
    "np.random.seed(42)\n",
    "\n",
    "## 1. uniform distribution \n",
    "print('uniform distirbution{sample}'.format(sample=np.random.rand(5,2)))\n",
    "\n",
    "## 2. normal distribution \n",
    "print('normal distirbution{sample}'.format(sample=np.random.randn(5,2)))\n",
    "\n",
    "## 3. integers \n",
    "print('uniform dist integers{sample}'.format(sample=np.random.randint(0, 10, (5,2))))"
   ]
  },
  {
   "cell_type": "code",
   "execution_count": 26,
   "metadata": {},
   "outputs": [
    {
     "data": {
      "text/plain": [
       "array([[1, 2, 3, 4],\n",
       "       [5, 6, 7, 8]])"
      ]
     },
     "execution_count": 26,
     "metadata": {},
     "output_type": "execute_result"
    }
   ],
   "source": [
    "# reshape\n",
    "arr = np.array([1,2,3,4,5,6,7,8])\n",
    "arr.reshape(2,4)"
   ]
  },
  {
   "cell_type": "code",
   "execution_count": 27,
   "metadata": {},
   "outputs": [
    {
     "name": "stdout",
     "output_type": "stream",
     "text": [
      "max value is 8 and location is 7\n"
     ]
    }
   ],
   "source": [
    "# find max/min value/index \n",
    "print('max value is {maxv} and location is {loc}'.format(maxv=arr.max(), loc=arr.argmax()))"
   ]
  },
  {
   "cell_type": "code",
   "execution_count": 31,
   "metadata": {},
   "outputs": [
    {
     "name": "stdout",
     "output_type": "stream",
     "text": [
      "<class 'numpy.ndarray'>\n",
      "int64\n",
      "(8,)\n"
     ]
    }
   ],
   "source": [
    "# type \n",
    "print(type(arr))\n",
    "print(arr.dtype)\n",
    "print(arr.shape)"
   ]
  },
  {
   "cell_type": "code",
   "execution_count": 33,
   "metadata": {
    "pycharm": {
     "name": "#%%\n"
    }
   },
   "outputs": [
    {
     "name": "stdout",
     "output_type": "stream",
     "text": [
      "[0 1 2 3 4 5 6 7 8 9]\n",
      "[100 100 100   3   4   5   6   7   8   9]\n"
     ]
    }
   ],
   "source": [
    "# broadcasting (change in place, always use .copy() if don't want to change original array)\n",
    "arr = np.arange(0, 10)\n",
    "print(arr)\n",
    "arr[0:3] = 100\n",
    "print(arr)"
   ]
  },
  {
   "cell_type": "code",
   "execution_count": 4,
   "metadata": {},
   "outputs": [
    {
     "name": "stdout",
     "output_type": "stream",
     "text": [
      "6\n",
      "[1, 9, 25, 49, 81]\n"
     ]
    }
   ],
   "source": [
    "# map & lambda function \n",
    "\"\"\"\n",
    "lambda arguments: expression\n",
    "map(function, iterable)\n",
    "\"\"\"\n",
    "maxi = lambda x, y: x if x > y else y \n",
    "print(maxi(4, 6))\n",
    "squares = list(map(lambda n: n**2, range(1,10,2)))\n",
    "print(squares)"
   ]
  },
  {
   "cell_type": "code",
   "execution_count": null,
   "metadata": {},
   "outputs": [],
   "source": [
    "# list comprehension \n"
   ]
  }
 ],
 "metadata": {
  "kernelspec": {
   "display_name": "pyml",
   "language": "python",
   "name": "pyml"
  },
  "language_info": {
   "codemirror_mode": {
    "name": "ipython",
    "version": 3
   },
   "file_extension": ".py",
   "mimetype": "text/x-python",
   "name": "python",
   "nbconvert_exporter": "python",
   "pygments_lexer": "ipython3",
   "version": "3.8.2"
  }
 },
 "nbformat": 4,
 "nbformat_minor": 5
}
