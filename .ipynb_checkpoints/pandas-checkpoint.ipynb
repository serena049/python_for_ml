{
 "cells": [
  {
   "cell_type": "code",
   "execution_count": 7,
   "metadata": {},
   "outputs": [],
   "source": [
    "import pandas as pd\n",
    "import numpy as np"
   ]
  },
  {
   "cell_type": "code",
   "execution_count": 3,
   "metadata": {},
   "outputs": [
    {
     "name": "stdout",
     "output_type": "stream",
     "text": [
      "name     serena\n",
      "hobby     piano\n",
      "dtype: object\n"
     ]
    }
   ],
   "source": [
    "# pd.series can take in a dict and turn keys into index \n",
    "my_dict = {'name': 'serena', 'hobby': 'piano'}\n",
    "print(pd.Series(my_dict))"
   ]
  },
  {
   "cell_type": "code",
   "execution_count": 6,
   "metadata": {},
   "outputs": [
    {
     "data": {
      "text/plain": [
       "Brazil    100.0\n",
       "China     950.0\n",
       "India     410.0\n",
       "Japan      80.0\n",
       "USA       510.0\n",
       "dtype: float64"
      ]
     },
     "execution_count": 6,
     "metadata": {},
     "output_type": "execute_result"
    }
   ],
   "source": [
    "# add with fill na\n",
    "q1 = pd.Series({'Japan': 80, 'China': 450, 'India': 200, 'USA': 250})\n",
    "q2 = pd.Series({'Brazil': 100,'China': 500, 'India': 210,'USA': 260})\n",
    "q1.add(q2,fill_value=0)"
   ]
  },
  {
   "cell_type": "code",
   "execution_count": 13,
   "metadata": {},
   "outputs": [
    {
     "name": "stdout",
     "output_type": "stream",
     "text": [
      "   one  two  three\n",
      "a    6    7      3\n",
      "b    5    4      9\n",
      "c    6    7      1\n"
     ]
    }
   ],
   "source": [
    "# create a df from np.array \n",
    "data = np.random.randint(1, 10, (3,3))\n",
    "col_names = ['one', 'two', 'three']\n",
    "index_names = ['a', 'b', 'c']\n",
    "df = pd.DataFrame(data, index=index_names, columns=col_names)\n",
    "print(df)"
   ]
  },
  {
   "cell_type": "code",
   "execution_count": 14,
   "metadata": {},
   "outputs": [
    {
     "name": "stdout",
     "output_type": "stream",
     "text": [
      "<class 'pandas.core.frame.DataFrame'>\n",
      "Index: 3 entries, a to c\n",
      "Data columns (total 3 columns):\n",
      " #   Column  Non-Null Count  Dtype\n",
      "---  ------  --------------  -----\n",
      " 0   one     3 non-null      int64\n",
      " 1   two     3 non-null      int64\n",
      " 2   three   3 non-null      int64\n",
      "dtypes: int64(3)\n",
      "memory usage: 96.0+ bytes\n"
     ]
    }
   ],
   "source": [
    "# df basics \n",
    "df.info()"
   ]
  },
  {
   "cell_type": "code",
   "execution_count": 16,
   "metadata": {},
   "outputs": [
    {
     "data": {
      "text/html": [
       "<div>\n",
       "<style scoped>\n",
       "    .dataframe tbody tr th:only-of-type {\n",
       "        vertical-align: middle;\n",
       "    }\n",
       "\n",
       "    .dataframe tbody tr th {\n",
       "        vertical-align: top;\n",
       "    }\n",
       "\n",
       "    .dataframe thead th {\n",
       "        text-align: right;\n",
       "    }\n",
       "</style>\n",
       "<table border=\"1\" class=\"dataframe\">\n",
       "  <thead>\n",
       "    <tr style=\"text-align: right;\">\n",
       "      <th></th>\n",
       "      <th>count</th>\n",
       "      <th>mean</th>\n",
       "      <th>std</th>\n",
       "      <th>min</th>\n",
       "      <th>25%</th>\n",
       "      <th>50%</th>\n",
       "      <th>75%</th>\n",
       "      <th>max</th>\n",
       "    </tr>\n",
       "  </thead>\n",
       "  <tbody>\n",
       "    <tr>\n",
       "      <th>one</th>\n",
       "      <td>3.0</td>\n",
       "      <td>5.666667</td>\n",
       "      <td>0.577350</td>\n",
       "      <td>5.0</td>\n",
       "      <td>5.5</td>\n",
       "      <td>6.0</td>\n",
       "      <td>6.0</td>\n",
       "      <td>6.0</td>\n",
       "    </tr>\n",
       "    <tr>\n",
       "      <th>two</th>\n",
       "      <td>3.0</td>\n",
       "      <td>6.000000</td>\n",
       "      <td>1.732051</td>\n",
       "      <td>4.0</td>\n",
       "      <td>5.5</td>\n",
       "      <td>7.0</td>\n",
       "      <td>7.0</td>\n",
       "      <td>7.0</td>\n",
       "    </tr>\n",
       "    <tr>\n",
       "      <th>three</th>\n",
       "      <td>3.0</td>\n",
       "      <td>4.333333</td>\n",
       "      <td>4.163332</td>\n",
       "      <td>1.0</td>\n",
       "      <td>2.0</td>\n",
       "      <td>3.0</td>\n",
       "      <td>6.0</td>\n",
       "      <td>9.0</td>\n",
       "    </tr>\n",
       "  </tbody>\n",
       "</table>\n",
       "</div>"
      ],
      "text/plain": [
       "       count      mean       std  min  25%  50%  75%  max\n",
       "one      3.0  5.666667  0.577350  5.0  5.5  6.0  6.0  6.0\n",
       "two      3.0  6.000000  1.732051  4.0  5.5  7.0  7.0  7.0\n",
       "three    3.0  4.333333  4.163332  1.0  2.0  3.0  6.0  9.0"
      ]
     },
     "execution_count": 16,
     "metadata": {},
     "output_type": "execute_result"
    }
   ],
   "source": [
    "df.describe().transpose()"
   ]
  },
  {
   "cell_type": "code",
   "execution_count": 17,
   "metadata": {},
   "outputs": [
    {
     "data": {
      "text/plain": [
       "dtype('int64')"
      ]
     },
     "execution_count": 17,
     "metadata": {},
     "output_type": "execute_result"
    }
   ],
   "source": [
    "df.one.dtype"
   ]
  },
  {
   "cell_type": "code",
   "execution_count": 19,
   "metadata": {},
   "outputs": [
    {
     "data": {
      "text/plain": [
       "(3, 3)"
      ]
     },
     "execution_count": 19,
     "metadata": {},
     "output_type": "execute_result"
    }
   ],
   "source": [
    "df.shape"
   ]
  },
  {
   "cell_type": "code",
   "execution_count": 18,
   "metadata": {},
   "outputs": [
    {
     "data": {
      "text/html": [
       "<div>\n",
       "<style scoped>\n",
       "    .dataframe tbody tr th:only-of-type {\n",
       "        vertical-align: middle;\n",
       "    }\n",
       "\n",
       "    .dataframe tbody tr th {\n",
       "        vertical-align: top;\n",
       "    }\n",
       "\n",
       "    .dataframe thead th {\n",
       "        text-align: right;\n",
       "    }\n",
       "</style>\n",
       "<table border=\"1\" class=\"dataframe\">\n",
       "  <thead>\n",
       "    <tr style=\"text-align: right;\">\n",
       "      <th></th>\n",
       "      <th>two</th>\n",
       "      <th>three</th>\n",
       "    </tr>\n",
       "  </thead>\n",
       "  <tbody>\n",
       "    <tr>\n",
       "      <th>a</th>\n",
       "      <td>7</td>\n",
       "      <td>3</td>\n",
       "    </tr>\n",
       "    <tr>\n",
       "      <th>b</th>\n",
       "      <td>4</td>\n",
       "      <td>9</td>\n",
       "    </tr>\n",
       "    <tr>\n",
       "      <th>c</th>\n",
       "      <td>7</td>\n",
       "      <td>1</td>\n",
       "    </tr>\n",
       "  </tbody>\n",
       "</table>\n",
       "</div>"
      ],
      "text/plain": [
       "   two  three\n",
       "a    7      3\n",
       "b    4      9\n",
       "c    7      1"
      ]
     },
     "execution_count": 18,
     "metadata": {},
     "output_type": "execute_result"
    }
   ],
   "source": [
    "# columns drop\n",
    "df.drop('one', axis=1)"
   ]
  },
  {
   "cell_type": "code",
   "execution_count": 20,
   "metadata": {},
   "outputs": [
    {
     "data": {
      "text/html": [
       "<div>\n",
       "<style scoped>\n",
       "    .dataframe tbody tr th:only-of-type {\n",
       "        vertical-align: middle;\n",
       "    }\n",
       "\n",
       "    .dataframe tbody tr th {\n",
       "        vertical-align: top;\n",
       "    }\n",
       "\n",
       "    .dataframe thead th {\n",
       "        text-align: right;\n",
       "    }\n",
       "</style>\n",
       "<table border=\"1\" class=\"dataframe\">\n",
       "  <thead>\n",
       "    <tr style=\"text-align: right;\">\n",
       "      <th></th>\n",
       "      <th>one</th>\n",
       "      <th>two</th>\n",
       "      <th>three</th>\n",
       "    </tr>\n",
       "  </thead>\n",
       "  <tbody>\n",
       "    <tr>\n",
       "      <th>b</th>\n",
       "      <td>5</td>\n",
       "      <td>4</td>\n",
       "      <td>9</td>\n",
       "    </tr>\n",
       "    <tr>\n",
       "      <th>c</th>\n",
       "      <td>6</td>\n",
       "      <td>7</td>\n",
       "      <td>1</td>\n",
       "    </tr>\n",
       "  </tbody>\n",
       "</table>\n",
       "</div>"
      ],
      "text/plain": [
       "   one  two  three\n",
       "b    5    4      9\n",
       "c    6    7      1"
      ]
     },
     "execution_count": 20,
     "metadata": {},
     "output_type": "execute_result"
    }
   ],
   "source": [
    "# index drop \n",
    "df.drop('a')"
   ]
  },
  {
   "cell_type": "code",
   "execution_count": 28,
   "metadata": {},
   "outputs": [
    {
     "name": "stdout",
     "output_type": "stream",
     "text": [
      "0      3.0582\n",
      "1      1.8612\n",
      "2      3.7818\n",
      "3      4.2624\n",
      "4      4.4262\n",
      "        ...  \n",
      "239    5.2254\n",
      "240    4.8924\n",
      "241    4.0806\n",
      "242    3.2076\n",
      "243    3.3804\n",
      "Name: total_bill, Length: 244, dtype: float64\n",
      "3.8880851560024894\n",
      "0.38158175299759023\n"
     ]
    }
   ],
   "source": [
    "# apply method (only takes in a single value and return a single value per row)\n",
    "\"\"\"\n",
    "1. lambda function is just an anoynimous function \n",
    "\"\"\"\n",
    "\n",
    "df = pd.read_csv('UNZIP_FOR_NOTEBOOKS_FINAL//03-Pandas//tips.csv')\n",
    "\n",
    "## 1. single column \n",
    "def last_four(num):\n",
    "    return str(num)[-4:]\n",
    "df['last_four'] = df['CC Number'].apply(last_four)\n",
    "\n",
    "\n",
    "# 2. use lambda function\n",
    "print(df['total_bill'].apply(lambda bill:bill*0.18))\n",
    "\n",
    "# 3. multiple columns \n",
    "import timeit \n",
    "  \n",
    "# code snippet to be executed only once \n",
    "setup = '''\n",
    "import numpy as np\n",
    "import pandas as pd\n",
    "\n",
    "df = pd.read_csv('UNZIP_FOR_NOTEBOOKS_FINAL//03-Pandas//tips.csv')\n",
    "\n",
    "def quality(total_bill,tip):\n",
    "    if tip/total_bill  > 0.25:\n",
    "        return \"Generous\"\n",
    "    else:\n",
    "        return \"Other\"\n",
    "'''\n",
    "  \n",
    "# code snippet whose execution time is to be measured \n",
    "stmt_one = ''' \n",
    "df['Tip Quality'] = df[['total_bill','tip']].apply(lambda df: quality(df['total_bill'],df['tip']),axis=1)\n",
    "'''\n",
    "\n",
    "stmt_two = '''\n",
    "df['Tip Quality'] = np.vectorize(quality)(df['total_bill'], df['tip'])\n",
    "'''\n",
    "\n",
    "print(timeit.timeit(setup = setup, \n",
    "                    stmt = stmt_one, \n",
    "                    number = 1000))\n",
    "print(timeit.timeit(setup = setup, \n",
    "                    stmt = stmt_two, \n",
    "                    number = 1000) )"
   ]
  },
  {
   "cell_type": "code",
   "execution_count": 29,
   "metadata": {},
   "outputs": [
    {
     "data": {
      "text/plain": [
       "170"
      ]
     },
     "execution_count": 29,
     "metadata": {},
     "output_type": "execute_result"
    }
   ],
   "source": [
    "# idxmax & idxmin\n",
    "df['total_bill'].idxmax()"
   ]
  },
  {
   "cell_type": "code",
   "execution_count": 30,
   "metadata": {},
   "outputs": [
    {
     "data": {
      "text/plain": [
       "Male      157\n",
       "Female     87\n",
       "Name: sex, dtype: int64"
      ]
     },
     "execution_count": 30,
     "metadata": {},
     "output_type": "execute_result"
    }
   ],
   "source": [
    "# value counts \n",
    "df['sex'].value_counts()"
   ]
  },
  {
   "cell_type": "code",
   "execution_count": 35,
   "metadata": {},
   "outputs": [
    {
     "name": "stdout",
     "output_type": "stream",
     "text": [
      "   total_bill   tip     sex smoker  day    time  size  price_per_person  \\\n",
      "0       16.99  1.01  Female     No  Sun  Dinner     2              8.49   \n",
      "1       10.34  1.66    Male     No  Sun  Dinner     3              3.45   \n",
      "2       21.01  3.50    Male     No  Sun  Dinner     3              7.00   \n",
      "3       23.68  3.31    Male     No  Sun  Dinner     2             11.84   \n",
      "4       24.59  3.61  Female     No  Sun  Dinner     4              6.15   \n",
      "\n",
      "           Payer Name         CC Number Payment ID last_four Tip Quality  \n",
      "0  Christy Cunningham  3560325168603410    Sun2959      3410          Ok  \n",
      "1      Douglas Tucker  4478071379779230    Sun4608      9230          Ok  \n",
      "2      Travis Walters  6011812112971322    Sun4458      1322          Ok  \n",
      "3    Nathaniel Harris  4676137647685994    Sun5260      5994          Ok  \n",
      "4        Tonya Carter  4832732618637221    Sun2251      7221          Ok  \n"
     ]
    },
    {
     "data": {
      "text/plain": [
       "0      D\n",
       "1      D\n",
       "2      D\n",
       "3      D\n",
       "4      D\n",
       "      ..\n",
       "239    D\n",
       "240    D\n",
       "241    D\n",
       "242    D\n",
       "243    D\n",
       "Name: time, Length: 244, dtype: object"
      ]
     },
     "execution_count": 35,
     "metadata": {},
     "output_type": "execute_result"
    }
   ],
   "source": [
    "# replace values \n",
    "\"\"\"\n",
    "1. a few columns\n",
    "\"\"\"\n",
    "def quality(total_bill,tip):\n",
    "    if tip/total_bill  > 0.25:\n",
    "        return \"Generous\"\n",
    "    else:\n",
    "        return \"Other\"\n",
    "df['Tip Quality'] = np.vectorize(quality)(df['total_bill'], df['tip'])\n",
    "df['Tip Quality'] = df['Tip Quality'].replace(to_replace='Other',value='Ok')\n",
    "print(df.head())\n",
    "\n",
    "\n",
    "\"\"\"\n",
    "2. multiple columns\n",
    "\"\"\"\n",
    "my_map = {'Dinner':'D','Lunch':'L'}\n",
    "df['time'].map(my_map)"
   ]
  },
  {
   "cell_type": "code",
   "execution_count": 36,
   "metadata": {},
   "outputs": [
    {
     "data": {
      "text/html": [
       "<div>\n",
       "<style scoped>\n",
       "    .dataframe tbody tr th:only-of-type {\n",
       "        vertical-align: middle;\n",
       "    }\n",
       "\n",
       "    .dataframe tbody tr th {\n",
       "        vertical-align: top;\n",
       "    }\n",
       "\n",
       "    .dataframe thead th {\n",
       "        text-align: right;\n",
       "    }\n",
       "</style>\n",
       "<table border=\"1\" class=\"dataframe\">\n",
       "  <thead>\n",
       "    <tr style=\"text-align: right;\">\n",
       "      <th></th>\n",
       "      <th>total_bill</th>\n",
       "      <th>tip</th>\n",
       "      <th>sex</th>\n",
       "      <th>smoker</th>\n",
       "      <th>day</th>\n",
       "      <th>time</th>\n",
       "      <th>size</th>\n",
       "      <th>price_per_person</th>\n",
       "      <th>Payer Name</th>\n",
       "      <th>CC Number</th>\n",
       "      <th>Payment ID</th>\n",
       "      <th>last_four</th>\n",
       "      <th>Tip Quality</th>\n",
       "    </tr>\n",
       "  </thead>\n",
       "  <tbody>\n",
       "    <tr>\n",
       "      <th>0</th>\n",
       "      <td>16.99</td>\n",
       "      <td>1.01</td>\n",
       "      <td>Female</td>\n",
       "      <td>No</td>\n",
       "      <td>Sun</td>\n",
       "      <td>Dinner</td>\n",
       "      <td>2</td>\n",
       "      <td>8.49</td>\n",
       "      <td>Christy Cunningham</td>\n",
       "      <td>3560325168603410</td>\n",
       "      <td>Sun2959</td>\n",
       "      <td>3410</td>\n",
       "      <td>Ok</td>\n",
       "    </tr>\n",
       "    <tr>\n",
       "      <th>1</th>\n",
       "      <td>10.34</td>\n",
       "      <td>1.66</td>\n",
       "      <td>Male</td>\n",
       "      <td>No</td>\n",
       "      <td>Sun</td>\n",
       "      <td>Dinner</td>\n",
       "      <td>3</td>\n",
       "      <td>3.45</td>\n",
       "      <td>Douglas Tucker</td>\n",
       "      <td>4478071379779230</td>\n",
       "      <td>Sun4608</td>\n",
       "      <td>9230</td>\n",
       "      <td>Ok</td>\n",
       "    </tr>\n",
       "    <tr>\n",
       "      <th>8</th>\n",
       "      <td>15.04</td>\n",
       "      <td>1.96</td>\n",
       "      <td>Male</td>\n",
       "      <td>No</td>\n",
       "      <td>Sun</td>\n",
       "      <td>Dinner</td>\n",
       "      <td>2</td>\n",
       "      <td>7.52</td>\n",
       "      <td>Joseph Mcdonald</td>\n",
       "      <td>3522866365840377</td>\n",
       "      <td>Sun6820</td>\n",
       "      <td>0377</td>\n",
       "      <td>Ok</td>\n",
       "    </tr>\n",
       "    <tr>\n",
       "      <th>9</th>\n",
       "      <td>14.78</td>\n",
       "      <td>3.23</td>\n",
       "      <td>Male</td>\n",
       "      <td>No</td>\n",
       "      <td>Sun</td>\n",
       "      <td>Dinner</td>\n",
       "      <td>2</td>\n",
       "      <td>7.39</td>\n",
       "      <td>Jerome Abbott</td>\n",
       "      <td>3532124519049786</td>\n",
       "      <td>Sun3775</td>\n",
       "      <td>9786</td>\n",
       "      <td>Ok</td>\n",
       "    </tr>\n",
       "    <tr>\n",
       "      <th>10</th>\n",
       "      <td>10.27</td>\n",
       "      <td>1.71</td>\n",
       "      <td>Male</td>\n",
       "      <td>No</td>\n",
       "      <td>Sun</td>\n",
       "      <td>Dinner</td>\n",
       "      <td>2</td>\n",
       "      <td>5.14</td>\n",
       "      <td>William Riley</td>\n",
       "      <td>566287581219</td>\n",
       "      <td>Sun2546</td>\n",
       "      <td>1219</td>\n",
       "      <td>Ok</td>\n",
       "    </tr>\n",
       "  </tbody>\n",
       "</table>\n",
       "</div>"
      ],
      "text/plain": [
       "    total_bill   tip     sex smoker  day    time  size  price_per_person  \\\n",
       "0        16.99  1.01  Female     No  Sun  Dinner     2              8.49   \n",
       "1        10.34  1.66    Male     No  Sun  Dinner     3              3.45   \n",
       "8        15.04  1.96    Male     No  Sun  Dinner     2              7.52   \n",
       "9        14.78  3.23    Male     No  Sun  Dinner     2              7.39   \n",
       "10       10.27  1.71    Male     No  Sun  Dinner     2              5.14   \n",
       "\n",
       "            Payer Name         CC Number Payment ID last_four Tip Quality  \n",
       "0   Christy Cunningham  3560325168603410    Sun2959      3410          Ok  \n",
       "1       Douglas Tucker  4478071379779230    Sun4608      9230          Ok  \n",
       "8      Joseph Mcdonald  3522866365840377    Sun6820      0377          Ok  \n",
       "9        Jerome Abbott  3532124519049786    Sun3775      9786          Ok  \n",
       "10       William Riley      566287581219    Sun2546      1219          Ok  "
      ]
     },
     "execution_count": 36,
     "metadata": {},
     "output_type": "execute_result"
    }
   ],
   "source": [
    "# between \n",
    "df[df['total_bill'].between(10,20,inclusive=True)].head()"
   ]
  },
  {
   "cell_type": "code",
   "execution_count": 38,
   "metadata": {},
   "outputs": [
    {
     "name": "stdout",
     "output_type": "stream",
     "text": [
      "     total_bill   tip   sex smoker   day    time  size  price_per_person  \\\n",
      "112       38.07  4.00  Male     No   Sun  Dinner     3             12.69   \n",
      "89        21.16  3.00  Male     No  Thur   Lunch     2             10.58   \n",
      "95        40.17  4.73  Male    Yes   Fri  Dinner     4             10.04   \n",
      "152       17.26  2.74  Male     No   Sun  Dinner     3              5.75   \n",
      "40        16.04  2.24  Male     No   Sat  Dinner     3              5.35   \n",
      "\n",
      "        Payer Name         CC Number Payment ID last_four Tip Quality  \n",
      "112     Jeff Lopez  3572865915176463     Sun591      6463          Ok  \n",
      "89     Keith Lewis  4356005144080422   Thur6273      0422          Ok  \n",
      "95   Aaron Bentley   180026611638690    Fri9628      8690          Ok  \n",
      "152  Gregory Smith     4292362333741    Sun5205      3741          Ok  \n",
      "40    Adam Edwards  3544447755679420    Sat8549      9420          Ok  \n",
      "     total_bill  tip     sex smoker  day    time  size  price_per_person  \\\n",
      "100       11.35  2.5  Female    Yes  Fri  Dinner     2              5.68   \n",
      "178        9.60  4.0  Female    Yes  Sun  Dinner     2              4.80   \n",
      "\n",
      "       Payer Name       CC Number Payment ID last_four Tip Quality  \n",
      "100    Lori Lynch  38558279384492    Fri4106      4492          Ok  \n",
      "178  Melanie Gray   4211808859168    Sun4598      9168    Generous  \n"
     ]
    }
   ],
   "source": [
    "# sample \n",
    "print(df.sample(5))\n",
    "print(df.sample(frac=0.01))"
   ]
  },
  {
   "cell_type": "code",
   "execution_count": 39,
   "metadata": {},
   "outputs": [
    {
     "data": {
      "text/html": [
       "<div>\n",
       "<style scoped>\n",
       "    .dataframe tbody tr th:only-of-type {\n",
       "        vertical-align: middle;\n",
       "    }\n",
       "\n",
       "    .dataframe tbody tr th {\n",
       "        vertical-align: top;\n",
       "    }\n",
       "\n",
       "    .dataframe thead th {\n",
       "        text-align: right;\n",
       "    }\n",
       "</style>\n",
       "<table border=\"1\" class=\"dataframe\">\n",
       "  <thead>\n",
       "    <tr style=\"text-align: right;\">\n",
       "      <th></th>\n",
       "      <th>total_bill</th>\n",
       "      <th>tip</th>\n",
       "      <th>sex</th>\n",
       "      <th>smoker</th>\n",
       "      <th>day</th>\n",
       "      <th>time</th>\n",
       "      <th>size</th>\n",
       "      <th>price_per_person</th>\n",
       "      <th>Payer Name</th>\n",
       "      <th>CC Number</th>\n",
       "      <th>Payment ID</th>\n",
       "      <th>last_four</th>\n",
       "      <th>Tip Quality</th>\n",
       "    </tr>\n",
       "  </thead>\n",
       "  <tbody>\n",
       "    <tr>\n",
       "      <th>170</th>\n",
       "      <td>50.81</td>\n",
       "      <td>10.00</td>\n",
       "      <td>Male</td>\n",
       "      <td>Yes</td>\n",
       "      <td>Sat</td>\n",
       "      <td>Dinner</td>\n",
       "      <td>3</td>\n",
       "      <td>16.94</td>\n",
       "      <td>Gregory Clark</td>\n",
       "      <td>5473850968388236</td>\n",
       "      <td>Sat1954</td>\n",
       "      <td>8236</td>\n",
       "      <td>Ok</td>\n",
       "    </tr>\n",
       "    <tr>\n",
       "      <th>212</th>\n",
       "      <td>48.33</td>\n",
       "      <td>9.00</td>\n",
       "      <td>Male</td>\n",
       "      <td>No</td>\n",
       "      <td>Sat</td>\n",
       "      <td>Dinner</td>\n",
       "      <td>4</td>\n",
       "      <td>12.08</td>\n",
       "      <td>Alex Williamson</td>\n",
       "      <td>676218815212</td>\n",
       "      <td>Sat4590</td>\n",
       "      <td>5212</td>\n",
       "      <td>Ok</td>\n",
       "    </tr>\n",
       "    <tr>\n",
       "      <th>23</th>\n",
       "      <td>39.42</td>\n",
       "      <td>7.58</td>\n",
       "      <td>Male</td>\n",
       "      <td>No</td>\n",
       "      <td>Sat</td>\n",
       "      <td>Dinner</td>\n",
       "      <td>4</td>\n",
       "      <td>9.86</td>\n",
       "      <td>Lance Peterson</td>\n",
       "      <td>3542584061609808</td>\n",
       "      <td>Sat239</td>\n",
       "      <td>9808</td>\n",
       "      <td>Ok</td>\n",
       "    </tr>\n",
       "    <tr>\n",
       "      <th>59</th>\n",
       "      <td>48.27</td>\n",
       "      <td>6.73</td>\n",
       "      <td>Male</td>\n",
       "      <td>No</td>\n",
       "      <td>Sat</td>\n",
       "      <td>Dinner</td>\n",
       "      <td>4</td>\n",
       "      <td>12.07</td>\n",
       "      <td>Brian Ortiz</td>\n",
       "      <td>6596453823950595</td>\n",
       "      <td>Sat8139</td>\n",
       "      <td>0595</td>\n",
       "      <td>Ok</td>\n",
       "    </tr>\n",
       "    <tr>\n",
       "      <th>141</th>\n",
       "      <td>34.30</td>\n",
       "      <td>6.70</td>\n",
       "      <td>Male</td>\n",
       "      <td>No</td>\n",
       "      <td>Thur</td>\n",
       "      <td>Lunch</td>\n",
       "      <td>6</td>\n",
       "      <td>5.72</td>\n",
       "      <td>Steven Carlson</td>\n",
       "      <td>3526515703718508</td>\n",
       "      <td>Thur1025</td>\n",
       "      <td>8508</td>\n",
       "      <td>Ok</td>\n",
       "    </tr>\n",
       "  </tbody>\n",
       "</table>\n",
       "</div>"
      ],
      "text/plain": [
       "     total_bill    tip   sex smoker   day    time  size  price_per_person  \\\n",
       "170       50.81  10.00  Male    Yes   Sat  Dinner     3             16.94   \n",
       "212       48.33   9.00  Male     No   Sat  Dinner     4             12.08   \n",
       "23        39.42   7.58  Male     No   Sat  Dinner     4              9.86   \n",
       "59        48.27   6.73  Male     No   Sat  Dinner     4             12.07   \n",
       "141       34.30   6.70  Male     No  Thur   Lunch     6              5.72   \n",
       "\n",
       "          Payer Name         CC Number Payment ID last_four Tip Quality  \n",
       "170    Gregory Clark  5473850968388236    Sat1954      8236          Ok  \n",
       "212  Alex Williamson      676218815212    Sat4590      5212          Ok  \n",
       "23    Lance Peterson  3542584061609808     Sat239      9808          Ok  \n",
       "59       Brian Ortiz  6596453823950595    Sat8139      0595          Ok  \n",
       "141   Steven Carlson  3526515703718508   Thur1025      8508          Ok  "
      ]
     },
     "execution_count": 39,
     "metadata": {},
     "output_type": "execute_result"
    }
   ],
   "source": [
    "# nlargest\n",
    "df.nlargest(5, 'tip')"
   ]
  },
  {
   "cell_type": "code",
   "execution_count": 44,
   "metadata": {},
   "outputs": [
    {
     "name": "stdout",
     "output_type": "stream",
     "text": [
      "[[70, 71, 72, 73, 74, 75, 76, 77, 78, 79, 80, 81, 82], [3, 4, 5, 6, 8]]\n",
      "mpg               14.111111\n",
      "displacement     367.555556\n",
      "weight          3940.055556\n",
      "acceleration      11.194444\n",
      "origin             1.000000\n",
      "Name: (70, 8), dtype: float64\n",
      "                 mpg  displacement       weight  acceleration    origin\n",
      "cylinders                                                              \n",
      "4          25.285714    107.000000  2292.571429     16.000000  2.285714\n",
      "6          20.500000    199.000000  2710.500000     15.500000  1.000000\n",
      "8          14.111111    367.555556  3940.055556     11.194444  1.000000\n",
      "                            mpg  displacement       weight  acceleration  \\\n",
      "cylinders model_year                                                       \n",
      "4         70          25.285714    107.000000  2292.571429     16.000000   \n",
      "6         70          20.500000    199.000000  2710.500000     15.500000   \n",
      "8         70          14.111111    367.555556  3940.055556     11.194444   \n",
      "4         71          27.461538    101.846154  2056.384615     16.961538   \n",
      "6         71          18.000000    243.375000  3171.875000     14.750000   \n",
      "\n",
      "                        origin  \n",
      "cylinders model_year            \n",
      "4         70          2.285714  \n",
      "6         70          1.000000  \n",
      "8         70          1.000000  \n",
      "4         71          1.923077  \n",
      "6         71          1.000000  \n",
      "                            mpg  displacement       weight  acceleration  \\\n",
      "model_year cylinders                                                       \n",
      "82         6          28.333333    225.000000  2931.666667     16.033333   \n",
      "           4          32.071429    118.571429  2402.321429     16.703571   \n",
      "81         8          26.600000    350.000000  3725.000000     19.000000   \n",
      "           6          23.428571    184.000000  3093.571429     15.442857   \n",
      "           4          32.814286    108.857143  2275.476190     16.466667   \n",
      "80         6          25.900000    196.500000  3145.500000     15.050000   \n",
      "           5          36.400000    121.000000  2950.000000     19.900000   \n",
      "           4          34.612000    111.000000  2360.080000     17.144000   \n",
      "           3          23.700000     70.000000  2420.000000     12.500000   \n",
      "79         8          18.630000    321.400000  3862.900000     15.400000   \n",
      "           6          22.950000    205.666667  3025.833333     15.433333   \n",
      "           5          25.400000    183.000000  3530.000000     20.100000   \n",
      "           4          31.525000    113.583333  2357.583333     15.991667   \n",
      "78         8          19.050000    300.833333  3563.333333     13.266667   \n",
      "           6          19.066667    213.250000  3314.166667     16.391667   \n",
      "           5          20.300000    131.000000  2830.000000     15.900000   \n",
      "           4          29.576471    112.117647  2296.764706     16.282353   \n",
      "77         8          16.000000    335.750000  4177.500000     13.662500   \n",
      "           6          19.500000    220.400000  3383.000000     16.900000   \n",
      "           4          29.107143    106.500000  2205.071429     16.064286   \n",
      "           3          21.500000     80.000000  2720.000000     13.500000   \n",
      "76         8          14.666667    324.000000  4064.666667     13.222222   \n",
      "           6          20.000000    221.400000  3349.600000     17.000000   \n",
      "           4          26.766667    106.333333  2306.600000     16.866667   \n",
      "75         8          15.666667    330.500000  4108.833333     13.166667   \n",
      "           6          17.583333    233.750000  3398.333333     17.708333   \n",
      "           4          25.250000    114.833333  2489.250000     15.833333   \n",
      "74         8          14.200000    315.200000  4438.400000     14.700000   \n",
      "           6          17.857143    230.428571  3320.000000     16.857143   \n",
      "           4          27.800000     96.533333  2151.466667     16.400000   \n",
      "73         8          13.200000    365.250000  4279.050000     12.250000   \n",
      "           6          19.000000    212.250000  2917.125000     15.687500   \n",
      "           4          22.727273    109.272727  2338.090909     17.136364   \n",
      "           3          18.000000     70.000000  2124.000000     13.500000   \n",
      "72         8          13.615385    344.846154  4228.384615     13.000000   \n",
      "           4          23.428571    111.535714  2382.642857     17.214286   \n",
      "           3          19.000000     70.000000  2330.000000     13.500000   \n",
      "71         8          13.428571    371.714286  4537.714286     12.214286   \n",
      "           6          18.000000    243.375000  3171.875000     14.750000   \n",
      "           4          27.461538    101.846154  2056.384615     16.961538   \n",
      "70         8          14.111111    367.555556  3940.055556     11.194444   \n",
      "           6          20.500000    199.000000  2710.500000     15.500000   \n",
      "           4          25.285714    107.000000  2292.571429     16.000000   \n",
      "\n",
      "                        origin  \n",
      "model_year cylinders            \n",
      "82         6          1.000000  \n",
      "           4          1.714286  \n",
      "81         8          1.000000  \n",
      "           6          1.714286  \n",
      "           4          2.095238  \n",
      "80         6          2.000000  \n",
      "           5          2.000000  \n",
      "           4          2.200000  \n",
      "           3          3.000000  \n",
      "79         8          1.000000  \n",
      "           6          1.000000  \n",
      "           5          2.000000  \n",
      "           4          1.583333  \n",
      "78         8          1.000000  \n",
      "           6          1.166667  \n",
      "           5          2.000000  \n",
      "           4          2.117647  \n",
      "77         8          1.000000  \n",
      "           6          1.400000  \n",
      "           4          1.857143  \n",
      "           3          3.000000  \n",
      "76         8          1.000000  \n",
      "           6          1.300000  \n",
      "           4          1.866667  \n",
      "75         8          1.000000  \n",
      "           6          1.000000  \n",
      "           4          2.166667  \n",
      "74         8          1.000000  \n",
      "           6          1.000000  \n",
      "           4          2.200000  \n",
      "73         8          1.000000  \n",
      "           6          1.250000  \n",
      "           4          2.000000  \n",
      "           3          3.000000  \n",
      "72         8          1.000000  \n",
      "           4          1.928571  \n",
      "           3          3.000000  \n",
      "71         8          1.000000  \n",
      "           6          1.000000  \n",
      "           4          1.923077  \n",
      "70         8          1.000000  \n",
      "           6          1.000000  \n",
      "           4          2.285714  \n",
      "              mpg                  weight             \n",
      "           median       mean         mean          std\n",
      "model_year                                            \n",
      "70          16.00  17.689655  3372.793103   852.868663\n",
      "71          19.00  21.250000  2995.428571  1061.830859\n",
      "72          18.50  18.714286  3237.714286   974.520960\n",
      "73          16.00  17.100000  3419.025000   974.809133\n",
      "74          24.00  22.703704  2877.925926   949.308571\n",
      "75          19.50  20.266667  3176.800000   765.179781\n",
      "76          21.00  21.573529  3078.735294   821.371481\n",
      "77          21.75  23.375000  2997.357143   912.825902\n",
      "78          20.70  24.061111  2861.805556   626.023907\n",
      "79          23.90  25.093103  3055.344828   747.881497\n",
      "80          32.70  33.696552  2436.655172   432.235491\n",
      "81          31.60  30.334483  2522.931034   533.600501\n",
      "82          32.00  31.709677  2453.548387   354.276713\n"
     ]
    }
   ],
   "source": [
    "# multi-index/cross-section group by \n",
    "df = pd.read_csv('UNZIP_FOR_NOTEBOOKS_FINAL//03-Pandas//mpg.csv')\n",
    "year_cyl = df.groupby(['model_year','cylinders']).mean()\n",
    "print(year_cyl.index.levels)\n",
    "\n",
    "# single row\n",
    "print(year_cyl.loc[(70,8)]) \n",
    "\n",
    "# cross-section\n",
    "print(year_cyl.xs(key=70,axis=0,level='model_year'))\n",
    "\n",
    "# swap levels\n",
    "print(year_cyl.swaplevel().head())\n",
    "\n",
    "# sort \n",
    "print(year_cyl.sort_index(level='model_year',ascending=False))\n",
    "\n",
    "# group by \n",
    "print(df.groupby('model_year').agg({'mpg':['median','mean'],'weight':['mean','std']}))"
   ]
  },
  {
   "cell_type": "code",
   "execution_count": null,
   "metadata": {},
   "outputs": [],
   "source": [
    "# pandas and text \n",
    "tech_finance = ['GOOG,APPL,AMZN','JPM,BAC,GS']\n",
    "print(tickers = pd.Series(tech_finance))\n",
    "tickers.str.split(',',expand=True)"
   ]
  },
  {
   "cell_type": "code",
   "execution_count": null,
   "metadata": {},
   "outputs": [],
   "source": []
  }
 ],
 "metadata": {
  "kernelspec": {
   "display_name": "pyml",
   "language": "python",
   "name": "pyml"
  },
  "language_info": {
   "codemirror_mode": {
    "name": "ipython",
    "version": 3
   },
   "file_extension": ".py",
   "mimetype": "text/x-python",
   "name": "python",
   "nbconvert_exporter": "python",
   "pygments_lexer": "ipython3",
   "version": "3.8.2"
  }
 },
 "nbformat": 4,
 "nbformat_minor": 5
}
